{
 "cells": [
  {
   "cell_type": "code",
   "execution_count": 1,
   "metadata": {},
   "outputs": [],
   "source": [
    "import pandas as pd"
   ]
  },
  {
   "cell_type": "code",
   "execution_count": 2,
   "metadata": {},
   "outputs": [],
   "source": [
    "# upload file resume\n",
    "resumes_origin = pd.read_csv(r\"C:\\Users\\huuph\\OneDrive\\Documents\\resume_matching\\Resume_matching\\Resume_Data.csv\")\n",
    "# upload file job\n",
    "jobs_origin = pd.read_csv(r\"C:\\Users\\huuph\\OneDrive\\Documents\\resume_matching\\Resume_matching\\Job_Data.csv\")\n",
    "label_origin = pd.read_csv(r\"C:\\Users\\huuph\\OneDrive\\Documents\\resume_matching\\Resume_matching\\evaluation-labeled-data.csv\")\n",
    "# jobs_origin= jobs_origin[0:3]\n"
   ]
  },
  {
   "cell_type": "code",
   "execution_count": 3,
   "metadata": {},
   "outputs": [
    {
     "data": {
      "text/html": [
       "<div>\n",
       "<style scoped>\n",
       "    .dataframe tbody tr th:only-of-type {\n",
       "        vertical-align: middle;\n",
       "    }\n",
       "\n",
       "    .dataframe tbody tr th {\n",
       "        vertical-align: top;\n",
       "    }\n",
       "\n",
       "    .dataframe thead th {\n",
       "        text-align: right;\n",
       "    }\n",
       "</style>\n",
       "<table border=\"1\" class=\"dataframe\">\n",
       "  <thead>\n",
       "    <tr style=\"text-align: right;\">\n",
       "      <th></th>\n",
       "      <th>name_job</th>\n",
       "      <th>resume</th>\n",
       "      <th>name_resume</th>\n",
       "    </tr>\n",
       "  </thead>\n",
       "  <tbody>\n",
       "    <tr>\n",
       "      <th>0</th>\n",
       "      <td>Senior Software Developer.docx</td>\n",
       "      <td>23, 9, 5, 19, 28, 15, 18, 21, 27, 48</td>\n",
       "      <td>[Nilesh Birari.docx, Debmalya Paul.docx, NAREN...</td>\n",
       "    </tr>\n",
       "    <tr>\n",
       "      <th>1</th>\n",
       "      <td>Senior Product Manager.docx</td>\n",
       "      <td>21, 24, 30, 5, 11, 23, 26, 31, 57, 58</td>\n",
       "      <td>[ABHAY RAJ DWIVEDI.docx, RISHABH SHARMA.docx, ...</td>\n",
       "    </tr>\n",
       "    <tr>\n",
       "      <th>2</th>\n",
       "      <td>Data Scientist.docx</td>\n",
       "      <td>8, 11, 4, 20, 42, 44, 47, 52, 54, 64</td>\n",
       "      <td>[DIVYA PRAKASH.docx, Amarpreet Singh.docx, ELI...</td>\n",
       "    </tr>\n",
       "    <tr>\n",
       "      <th>3</th>\n",
       "      <td>HTML Developer.docx</td>\n",
       "      <td>31, 5, 12, 15, 20, 21, 22, 23, 27, 43</td>\n",
       "      <td>[khyati gandhi.docx, NARENDRA SHUKLA.docx, Amr...</td>\n",
       "    </tr>\n",
       "    <tr>\n",
       "      <th>4</th>\n",
       "      <td>IT Project Manager.docx</td>\n",
       "      <td>23, 19, 21, 26, 28, 57, 58, 39, 55, 25</td>\n",
       "      <td>[Nilesh Birari.docx, Deepak Hariharan.docx, AB...</td>\n",
       "    </tr>\n",
       "    <tr>\n",
       "      <th>5</th>\n",
       "      <td>Lead Technical Program Manager.docx</td>\n",
       "      <td>55, 19, 21, 23, 28, 26, 43, 26, 30, 57</td>\n",
       "      <td>[Sneha Vijay Bhamkar.docx, Deepak Hariharan.do...</td>\n",
       "    </tr>\n",
       "    <tr>\n",
       "      <th>6</th>\n",
       "      <td>Web_dev_job.docx</td>\n",
       "      <td>31, 12, 27, 43, 22, 48, 61, 5, 28, 23</td>\n",
       "      <td>[khyati gandhi.docx, Amruta B.pdf, Dhavakumar....</td>\n",
       "    </tr>\n",
       "    <tr>\n",
       "      <th>7</th>\n",
       "      <td>Backend Developer.docx</td>\n",
       "      <td>15, 47, 38, 51, 11, 20, 23, 19, 28, 48</td>\n",
       "      <td>[Pooja L.docx, AJAY CHINNI.docx, Avik Bhattach...</td>\n",
       "    </tr>\n",
       "    <tr>\n",
       "      <th>8</th>\n",
       "      <td>Web Developer.docx</td>\n",
       "      <td>5, 7, 9, 12, 21, 22, 23, 27, 28, 31</td>\n",
       "      <td>[NARENDRA SHUKLA.docx, Ashwani Kumar Rajput.do...</td>\n",
       "    </tr>\n",
       "    <tr>\n",
       "      <th>9</th>\n",
       "      <td>Revenue Reporting Data Analyst.docx</td>\n",
       "      <td>4, 8, 28, 26, 19, 5, 7, 10, 20, 22</td>\n",
       "      <td>[ELIZABETH SONY THOMAS.docx, DIVYA PRAKASH.doc...</td>\n",
       "    </tr>\n",
       "  </tbody>\n",
       "</table>\n",
       "</div>"
      ],
      "text/plain": [
       "                              name_job   \n",
       "0       Senior Software Developer.docx  \\\n",
       "1          Senior Product Manager.docx   \n",
       "2                  Data Scientist.docx   \n",
       "3                  HTML Developer.docx   \n",
       "4              IT Project Manager.docx   \n",
       "5  Lead Technical Program Manager.docx   \n",
       "6                     Web_dev_job.docx   \n",
       "7               Backend Developer.docx   \n",
       "8                   Web Developer.docx   \n",
       "9  Revenue Reporting Data Analyst.docx   \n",
       "\n",
       "                                   resume   \n",
       "0    23, 9, 5, 19, 28, 15, 18, 21, 27, 48  \\\n",
       "1   21, 24, 30, 5, 11, 23, 26, 31, 57, 58   \n",
       "2    8, 11, 4, 20, 42, 44, 47, 52, 54, 64   \n",
       "3   31, 5, 12, 15, 20, 21, 22, 23, 27, 43   \n",
       "4  23, 19, 21, 26, 28, 57, 58, 39, 55, 25   \n",
       "5  55, 19, 21, 23, 28, 26, 43, 26, 30, 57   \n",
       "6   31, 12, 27, 43, 22, 48, 61, 5, 28, 23   \n",
       "7  15, 47, 38, 51, 11, 20, 23, 19, 28, 48   \n",
       "8     5, 7, 9, 12, 21, 22, 23, 27, 28, 31   \n",
       "9      4, 8, 28, 26, 19, 5, 7, 10, 20, 22   \n",
       "\n",
       "                                         name_resume  \n",
       "0  [Nilesh Birari.docx, Debmalya Paul.docx, NAREN...  \n",
       "1  [ABHAY RAJ DWIVEDI.docx, RISHABH SHARMA.docx, ...  \n",
       "2  [DIVYA PRAKASH.docx, Amarpreet Singh.docx, ELI...  \n",
       "3  [khyati gandhi.docx, NARENDRA SHUKLA.docx, Amr...  \n",
       "4  [Nilesh Birari.docx, Deepak Hariharan.docx, AB...  \n",
       "5  [Sneha Vijay Bhamkar.docx, Deepak Hariharan.do...  \n",
       "6  [khyati gandhi.docx, Amruta B.pdf, Dhavakumar....  \n",
       "7  [Pooja L.docx, AJAY CHINNI.docx, Avik Bhattach...  \n",
       "8  [NARENDRA SHUKLA.docx, Ashwani Kumar Rajput.do...  \n",
       "9  [ELIZABETH SONY THOMAS.docx, DIVYA PRAKASH.doc...  "
      ]
     },
     "execution_count": 3,
     "metadata": {},
     "output_type": "execute_result"
    }
   ],
   "source": [
    "list_resumes = []\n",
    "for i in range(len(label_origin[\"name_job\"])):\n",
    "    list_resume = label_origin[\"resume\"][i].split(\", \")\n",
    "    list_resumes.append([resumes_origin[\"Name\"].iloc[int(j) -2] for j in list_resume])\n",
    "label_origin[\"name_resume\"] = list_resumes\n",
    "label_origin"
   ]
  },
  {
   "cell_type": "code",
   "execution_count": 4,
   "metadata": {},
   "outputs": [],
   "source": [
    "def check_list(list1, list2):\n",
    "    return [element for element in list1 if element in list2]"
   ]
  },
  {
   "cell_type": "code",
   "execution_count": 5,
   "metadata": {},
   "outputs": [],
   "source": [
    "# extraction resume\n",
    "from Job_resume_matching.extraction_resume import extraction_resume\n",
    "info_retrieval_resume = extraction_resume(resumes_origin)\n",
    "for i in range(len(info_retrieval_resume)):\n",
    "        info_retrieval_resume[\"degrees\"][i] = str([info_retrieval_resume[\"degrees\"][i]])\n",
    "        info_retrieval_resume[\"majors\"][i] = str(info_retrieval_resume[\"majors\"][i]) \n",
    "        info_retrieval_resume[\"skills\"][i] = str(info_retrieval_resume[\"skills\"][i])"
   ]
  },
  {
   "cell_type": "code",
   "execution_count": 6,
   "metadata": {},
   "outputs": [],
   "source": [
    "from Job_resume_matching.extraction import extraction_jobs_all\n",
    "info_retrieval_jobs = extraction_jobs_all(jobs_origin)\n"
   ]
  },
  {
   "cell_type": "code",
   "execution_count": 15,
   "metadata": {},
   "outputs": [
    {
     "name": "stdout",
     "output_type": "stream",
     "text": [
      "0\n",
      "aa 1\n",
      "1\n",
      "aa 1\n"
     ]
    }
   ],
   "source": [
    "from Job_resume_matching.matching import matching, matching_evaluate\n",
    "import yacs.config\n",
    "import asyncio\n",
    "from config import get_default_config\n",
    "def load_config() -> yacs.config.CfgNode:\n",
    "    config = get_default_config()\n",
    "    return config\n",
    "\n",
    "config = load_config()\n",
    "_info_retrieval_jobs = info_retrieval_jobs.copy()\n",
    "list_result_matching = []\n",
    "_retreval_jobs = _info_retrieval_jobs.reset_index()\n",
    "# for i in range(len(label_origin[\"name_job\"])):\n",
    "for i in range(0,2):\n",
    "    _info_retrieval_resume = info_retrieval_resume.copy()\n",
    "    print(i)\n",
    "    retreval_jobs = _retreval_jobs.copy()\n",
    "    _jobs = retreval_jobs[retreval_jobs[\"Name\"] == label_origin[\"name_job\"][i]]\n",
    "    _jobs = _jobs.reset_index()\n",
    "    results_matching = await asyncio.gather(matching_evaluate(_jobs,_info_retrieval_resume, config))\n",
    "    list_result_matching.append(results_matching)\n",
    "# results_matching\n"
   ]
  },
  {
   "cell_type": "code",
   "execution_count": 30,
   "metadata": {},
   "outputs": [],
   "source": [
    "list_top_All_mpnet_base_v2 = []\n",
    "list_top_Paraphrase_MiniLM_L6_v2 = []\n",
    "list_top_All_MiniLM_L12_v1 = []   \n",
    "for i in range(len(list_result_matching)):\n",
    "    All_mpnet_base_v2 = list_result_matching[i][0][0].sort_values(by=[\"matching score job 0\"], ascending=False).reset_index()\n",
    "    top_name_resume_All_mpnet_base_v2 = All_mpnet_base_v2[\"Name\"]\n",
    "    list_top_All_mpnet_base_v2.append(top_name_resume_All_mpnet_base_v2[0:10])\n",
    "\n",
    "    Paraphrase_MiniLM_L6_v2 = list_result_matching[i][0][1].sort_values(by=[\"matching score job 0\"], ascending=False).reset_index()\n",
    "    top_name_resume_Paraphrase_MiniLM_L6_v2 = Paraphrase_MiniLM_L6_v2[\"Name\"]\n",
    "    list_top_Paraphrase_MiniLM_L6_v2.append(top_name_resume_Paraphrase_MiniLM_L6_v2[0:10])\n",
    "    \n",
    "    All_MiniLM_L12_v1 = list_result_matching[i][0][2].sort_values(by=[\"matching score job 0\"], ascending=False).reset_index()\n",
    "    top_name_resume_All_MiniLM_L12_v1 = All_MiniLM_L12_v1[\"Name\"]\n",
    "    list_top_All_MiniLM_L12_v1.append(top_name_resume_All_mpnet_base_v2[0:10])\n"
   ]
  },
  {
   "cell_type": "code",
   "execution_count": 31,
   "metadata": {},
   "outputs": [],
   "source": [
    "evaluate_All_mpnet_base_v2 = []\n",
    "evaluate_Paraphrase_MiniLM_L6_v2 = []\n",
    "evaluate_All_MiniLM_L12_v1 = []\n",
    "for i in range(0,2):\n",
    "    list_All_mpnet_base_v2 = list(list_top_All_mpnet_base_v2[i])\n",
    "    list_Paraphrase_MiniLM_L6_v2 = list(list_top_Paraphrase_MiniLM_L6_v2[i])\n",
    "    list_All_MiniLM_L12_v1 = list(list_top_All_MiniLM_L12_v1[i])\n",
    "    list_2 = list(label_origin[\"name_resume\"][i])\n",
    "    check_score_1 = check_list(list_All_mpnet_base_v2, list_2)\n",
    "    check_score_2 = check_list(list_Paraphrase_MiniLM_L6_v2, list_2)\n",
    "    check_score_3 = check_list(list_All_MiniLM_L12_v1, list_2)\n",
    "    evaluate_All_mpnet_base_v2.append(len(check_score_1)/10)\n",
    "    evaluate_Paraphrase_MiniLM_L6_v2.append(len(check_score_2)/10)\n",
    "    evaluate_All_MiniLM_L12_v1.append(len(check_score_3)/10)\n"
   ]
  },
  {
   "cell_type": "code",
   "execution_count": 32,
   "metadata": {},
   "outputs": [
    {
     "data": {
      "text/html": [
       "<div>\n",
       "<style scoped>\n",
       "    .dataframe tbody tr th:only-of-type {\n",
       "        vertical-align: middle;\n",
       "    }\n",
       "\n",
       "    .dataframe tbody tr th {\n",
       "        vertical-align: top;\n",
       "    }\n",
       "\n",
       "    .dataframe thead th {\n",
       "        text-align: right;\n",
       "    }\n",
       "</style>\n",
       "<table border=\"1\" class=\"dataframe\">\n",
       "  <thead>\n",
       "    <tr style=\"text-align: right;\">\n",
       "      <th></th>\n",
       "      <th>All_mpnet_base_v2</th>\n",
       "      <th>Paraphrase_MiniLM_L6_v2</th>\n",
       "      <th>All_MiniLM_L12_v1</th>\n",
       "    </tr>\n",
       "  </thead>\n",
       "  <tbody>\n",
       "    <tr>\n",
       "      <th>0</th>\n",
       "      <td>0.0</td>\n",
       "      <td>0.2</td>\n",
       "      <td>0.0</td>\n",
       "    </tr>\n",
       "    <tr>\n",
       "      <th>1</th>\n",
       "      <td>0.4</td>\n",
       "      <td>0.3</td>\n",
       "      <td>0.4</td>\n",
       "    </tr>\n",
       "  </tbody>\n",
       "</table>\n",
       "</div>"
      ],
      "text/plain": [
       "   All_mpnet_base_v2  Paraphrase_MiniLM_L6_v2  All_MiniLM_L12_v1\n",
       "0                0.0                      0.2                0.0\n",
       "1                0.4                      0.3                0.4"
      ]
     },
     "execution_count": 32,
     "metadata": {},
     "output_type": "execute_result"
    }
   ],
   "source": [
    "data = {\n",
    "    \"All_mpnet_base_v2\": evaluate_All_mpnet_base_v2,\n",
    "    \"Paraphrase_MiniLM_L6_v2\": evaluate_Paraphrase_MiniLM_L6_v2,\n",
    "    \"All_MiniLM_L12_v1\": evaluate_All_MiniLM_L12_v1\n",
    "}\n",
    "df = pd.DataFrame(data)\n",
    "df"
   ]
  },
  {
   "cell_type": "code",
   "execution_count": 26,
   "metadata": {},
   "outputs": [
    {
     "data": {
      "text/plain": [
       "0               Suraj Chauhan.docx\n",
       "1            Prasanna Navnath.docx\n",
       "2             Amarpreet Singh.docx\n",
       "3                   Nandagopal.pdf\n",
       "4           Avik Bhattacharya.docx\n",
       "5              NARENDRA HINGE.docx\n",
       "6               SARVESH KARAN.docx\n",
       "7              GurshidPremium.docx\n",
       "8               khyati gandhi.docx\n",
       "9    Seshadri Sastry Kunapuli.docx\n",
       "Name: Name, dtype: object"
      ]
     },
     "execution_count": 26,
     "metadata": {},
     "output_type": "execute_result"
    }
   ],
   "source": [
    "list_top_All_mpnet_base_v2[0]"
   ]
  },
  {
   "cell_type": "code",
   "execution_count": 83,
   "metadata": {},
   "outputs": [
    {
     "name": "stdout",
     "output_type": "stream",
     "text": [
      "['ELIZABETH SONY THOMAS.docx', 'NARENDRA SHUKLA.docx', 'Charu Tyagi.docx', 'Rahul Kumar.docx', 'Ishrat Fatma.docx']\n",
      "['Nilesh Birari.docx', 'Debmalya Paul.docx', 'NARENDRA SHUKLA.docx', 'Deepak Hariharan.docx', 'Ranjan Raikwar.docx', 'Pooja L.docx', 'NEDA RIZVI.docx', 'ABHAY RAJ DWIVEDI.docx', 'Dhavakumar.docx', 'Renu Tiwari.docx']\n"
     ]
    },
    {
     "data": {
      "text/plain": [
       "['NARENDRA SHUKLA.docx']"
      ]
     },
     "execution_count": 83,
     "metadata": {},
     "output_type": "execute_result"
    }
   ],
   "source": [
    "list1= list(results_matching[0][0][\"Name\"])\n",
    "list2 = list(label_origin[\"name_resume\"][0])\n",
    "print(list1)\n",
    "print(list2)\n",
    "check_list(list1, list2)"
   ]
  },
  {
   "cell_type": "code",
   "execution_count": null,
   "metadata": {},
   "outputs": [],
   "source": []
  }
 ],
 "metadata": {
  "kernelspec": {
   "display_name": "env",
   "language": "python",
   "name": "python3"
  },
  "language_info": {
   "codemirror_mode": {
    "name": "ipython",
    "version": 3
   },
   "file_extension": ".py",
   "mimetype": "text/x-python",
   "name": "python",
   "nbconvert_exporter": "python",
   "pygments_lexer": "ipython3",
   "version": "3.10.3"
  },
  "orig_nbformat": 4
 },
 "nbformat": 4,
 "nbformat_minor": 2
}
